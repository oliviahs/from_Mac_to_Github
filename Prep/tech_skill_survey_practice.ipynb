{
 "cells": [
  {
   "cell_type": "markdown",
   "metadata": {},
   "source": [
    "# Catch up with #11 Scott "
   ]
  },
  {
   "cell_type": "code",
   "execution_count": 126,
   "metadata": {
    "scrolled": true
   },
   "outputs": [
    {
     "name": "stdout",
     "output_type": "stream",
     "text": [
      "\n",
      "ball 5 2\n",
      "box 10 5\n",
      "ball 10 3.5\n",
      "ball 5 2\n",
      "\n",
      "<class 'str'>\n"
     ]
    }
   ],
   "source": [
    "stdin = \"\"\"\n",
    "ball 5 2\n",
    "box 10 5\n",
    "ball 10 3.5\n",
    "ball 5 2\n",
    "\"\"\"\n",
    "\n",
    "print(stdin)\n",
    "print(type(stdin))"
   ]
  },
  {
   "cell_type": "code",
   "execution_count": 123,
   "metadata": {},
   "outputs": [
    {
     "name": "stdout",
     "output_type": "stream",
     "text": [
      "['ball 5 2', 'box 10 5', 'ball 10 3.5', 'ball 5 2']\n"
     ]
    }
   ],
   "source": [
    "# The strip() method returns a copy of the string by removing both the leading and the trailing characters \n",
    "# string.strip(' xoe') removed all whitespace,x, o, and e that lead or trailed the string.\n",
    "\n",
    "#stdin = stdin.strip().split('\\n')\n",
    "#print(stdin)"
   ]
  },
  {
   "cell_type": "code",
   "execution_count": 124,
   "metadata": {},
   "outputs": [
    {
     "data": {
      "text/plain": [
       "[['ball', '5', '2'],\n",
       " ['box', '10', '5'],\n",
       " ['ball', '10', '3.5'],\n",
       " ['ball', '5', '2']]"
      ]
     },
     "execution_count": 124,
     "metadata": {},
     "output_type": "execute_result"
    }
   ],
   "source": [
    "#lines = [line.split() for line in stdin]\n",
    "#lines\n",
    "\n",
    "\n",
    "# recombine lines back into a list of strings\n",
    "# join함수는 리스트의 문자열들을 합치는 역할을 합니다.\n",
    "# lines = [' '.join(x) for x in lines]"
   ]
  },
  {
   "cell_type": "code",
   "execution_count": 128,
   "metadata": {},
   "outputs": [
    {
     "name": "stdout",
     "output_type": "stream",
     "text": [
      "3\n",
      "['ball 5 2']\n"
     ]
    }
   ],
   "source": [
    "lines = stdin.strip().split('\\n')\n",
    "seen = []\n",
    "unique = 0 \n",
    "\n",
    "for index, line in enumerate(lines[:-1]):\n",
    "    if line in seen: continue\n",
    "    for other_line in lines[index+1: ]:\n",
    "        if other_line in seen: continue\n",
    "        if line == other_line:\n",
    "            seen.append(line)\n",
    "            break\n",
    "        else:\n",
    "            unique += 1\n",
    "print(unique)\n",
    "print(seen)"
   ]
  },
  {
   "cell_type": "markdown",
   "metadata": {},
   "source": [
    "# try again #11"
   ]
  },
  {
   "cell_type": "code",
   "execution_count": 129,
   "metadata": {},
   "outputs": [
    {
     "name": "stdout",
     "output_type": "stream",
     "text": [
      "3\n"
     ]
    }
   ],
   "source": [
    "lines = stdin.strip().split('\\n')\n",
    "seen = []\n",
    "unique = 0\n",
    "\n",
    "for index, line in enumerate(lines):\n",
    "    if line in seen:\n",
    "        continue\n",
    "    for other_line in lines[index+1: ]:\n",
    "        if other_line in seen:\n",
    "            continue\n",
    "        elif line == other_line:\n",
    "            seen.append(line)\n",
    "            break\n",
    "        else:\n",
    "            unique += 1\n",
    "print(unique)\n"
   ]
  },
  {
   "cell_type": "markdown",
   "metadata": {},
   "source": [
    "# Question for #11"
   ]
  },
  {
   "cell_type": "code",
   "execution_count": null,
   "metadata": {},
   "outputs": [],
   "source": [
    "# Q1) 고친점--> enumerate(lines[:-1]): #왜 뒤에꺼 하나는 빼지? 아무리 다르다고 알아도 포함시켜야하는거 아님?\n",
    "\n",
    "# Q2) I tried for loop to use built-in input\n",
    "no_of_lines = 4\n",
    "line = \"\"\n",
    "for i in range(no_of_lines):\n",
    "    line = line + input() + \"\\n\"\n",
    "print(line) # this gives us the input?\n",
    "x = line.splitlines()\n",
    "\n",
    "# BECAUSE,\n",
    "I've tried\n",
    "x = list(map(str, input().split())) \n",
    "print(x)\n",
    "and it only gave me ['ball', '5', '2].\n",
    "\n",
    "# Q3) Is it bad to use set()function to find distinct ones, just like what I did?\n",
    "\n",
    "# Q4) what is a good project?\n",
    "# Q5) gap between the course and actual coding interview?"
   ]
  },
  {
   "cell_type": "markdown",
   "metadata": {},
   "source": [
    "=============================================================================================================="
   ]
  },
  {
   "cell_type": "markdown",
   "metadata": {},
   "source": [
    "# Catch up with #12 Scott "
   ]
  },
  {
   "cell_type": "code",
   "execution_count": 158,
   "metadata": {},
   "outputs": [],
   "source": [
    "STDIN = \"1 7 2 10 20 4\""
   ]
  },
  {
   "cell_type": "code",
   "execution_count": 159,
   "metadata": {},
   "outputs": [
    {
     "data": {
      "text/plain": [
       "[1, 7, 2, 10, 20, 4]"
      ]
     },
     "execution_count": 159,
     "metadata": {},
     "output_type": "execute_result"
    }
   ],
   "source": [
    "#convert to a list of integers\n",
    "nums = [int(x) for x in STDIN.split()]\n",
    "nums"
   ]
  },
  {
   "cell_type": "code",
   "execution_count": 160,
   "metadata": {},
   "outputs": [
    {
     "name": "stdout",
     "output_type": "stream",
     "text": [
      "Output of list in form of (position, value): \n",
      " [(0, 1), (1, 7), (2, 2), (3, 10), (4, 20), (5, 4)]\n"
     ]
    }
   ],
   "source": [
    "# create tuples, to remember value and position \n",
    "nums = [(position, value) for position, value in enumerate(nums)]\n",
    "print('Output of list in form of (position, value): \\n', nums)"
   ]
  },
  {
   "cell_type": "code",
   "execution_count": 161,
   "metadata": {
    "scrolled": true
   },
   "outputs": [
    {
     "name": "stdout",
     "output_type": "stream",
     "text": [
      "Sorted list in descending order:\n",
      " [(4, 20), (3, 10), (1, 7), (5, 4), (2, 2), (0, 1)]\n"
     ]
    }
   ],
   "source": [
    "# sort the value in descending order\n",
    "nums2 = sorted(nums, key=lambda x: x[1], reverse=True)\n",
    "print('Sorted list in descending order:\\n', nums2)"
   ]
  },
  {
   "cell_type": "code",
   "execution_count": 162,
   "metadata": {},
   "outputs": [
    {
     "name": "stdout",
     "output_type": "stream",
     "text": [
      "Numbers after division: \n",
      " [(4, 10.0), (3, 5.0), (1, 3.5), (5, 4), (2, 2), (0, 1)]\n"
     ]
    }
   ],
   "source": [
    "# take the first 3 tuples and divide them by 2\n",
    "\n",
    "for index, item in enumerate(nums2[:3]):\n",
    "    position, value = item\n",
    "    value /= 2\n",
    "    nums2[index] = (position, value) # replace with the new value\n",
    "print('Numbers after division: \\n', nums2)"
   ]
  },
  {
   "cell_type": "code",
   "execution_count": 163,
   "metadata": {},
   "outputs": [
    {
     "name": "stdout",
     "output_type": "stream",
     "text": [
      "Numbers back in the original order:\n",
      " [(0, 1), (1, 3.5), (2, 2), (3, 5.0), (4, 10.0), (5, 4)]\n"
     ]
    }
   ],
   "source": [
    "# put the list back in the original order\n",
    "\n",
    "nums3 = sorted(nums2)\n",
    "print('Numbers back in the original order:\\n', nums3)\n"
   ]
  },
  {
   "cell_type": "code",
   "execution_count": 164,
   "metadata": {},
   "outputs": [
    {
     "name": "stdout",
     "output_type": "stream",
     "text": [
      "Numbers with only the numbers:\n",
      " [1, 3.5, 2, 5.0, 10.0, 4]\n"
     ]
    }
   ],
   "source": [
    "# remove tuples\n",
    "\n",
    "n = [item[1] for item in nums3]\n",
    "print('Numbers with only the numbers:\\n',n)"
   ]
  },
  {
   "cell_type": "code",
   "execution_count": 165,
   "metadata": {},
   "outputs": [
    {
     "name": "stdout",
     "output_type": "stream",
     "text": [
      "Nums with whole integers and float fractionals:\n",
      " [1, 3.5, 2, 5, 10, 4]\n"
     ]
    }
   ],
   "source": [
    "# convert the whole numbers back to integers instead of float\n",
    "\n",
    "# [int(x) if x - int(x) == 0 else x for x in n]\n",
    "\n",
    "new = []\n",
    "\n",
    "for x in n:\n",
    "    if x - int(x) == 0:\n",
    "        x = int(x)\n",
    "        new.append(x)\n",
    "    else:\n",
    "        x = x\n",
    "        new.append(x)\n",
    "print('Nums with whole integers and float fractionals:\\n', new)\n",
    "\n"
   ]
  },
  {
   "cell_type": "code",
   "execution_count": 167,
   "metadata": {},
   "outputs": [
    {
     "data": {
      "text/plain": [
       "'1 3.5 2 5 10 4'"
      ]
     },
     "execution_count": 167,
     "metadata": {},
     "output_type": "execute_result"
    }
   ],
   "source": [
    "# convert list to string\n",
    "\n",
    "new2 = ' '.join(str(x) for x in new)\n",
    "new2"
   ]
  },
  {
   "cell_type": "code",
   "execution_count": null,
   "metadata": {},
   "outputs": [],
   "source": []
  },
  {
   "cell_type": "markdown",
   "metadata": {},
   "source": [
    "# Try again #12"
   ]
  },
  {
   "cell_type": "code",
   "execution_count": 172,
   "metadata": {},
   "outputs": [
    {
     "name": "stdout",
     "output_type": "stream",
     "text": [
      "[(20, 4), (10, 3), (7, 1), (4, 5), (2, 2), (1, 0)]\n",
      "[(1, 0), (3.5, 1), (2, 2), (5.0, 3), (10.0, 4), (4, 5)]\n",
      "1 3.5 2 5 10 4\n"
     ]
    }
   ],
   "source": [
    "STDIN = \"1 7 2 10 20 4\"\n",
    "\n",
    "numbers = [(int(x), position) for position, x in enumerate(STDIN.split())]\n",
    "numbers.sort(reverse = True)\n",
    "print(numbers)\n",
    "\n",
    "\n",
    "for index, item in enumerate(numbers[:3]):\n",
    "    numbers[index] = (item[0]/2, item[1])\n",
    "    \n",
    "numbers.sort(key= lambda x: x[1])\n",
    "print(numbers)\n",
    "\n",
    "numbers= ' '.join([str(int(i[0])) if i[0]-int(i[0])==0 else str(i[0]) for i in numbers])\n",
    "print(numbers)"
   ]
  },
  {
   "cell_type": "code",
   "execution_count": null,
   "metadata": {},
   "outputs": [],
   "source": []
  },
  {
   "cell_type": "code",
   "execution_count": null,
   "metadata": {},
   "outputs": [],
   "source": []
  },
  {
   "cell_type": "code",
   "execution_count": null,
   "metadata": {},
   "outputs": [],
   "source": []
  },
  {
   "cell_type": "code",
   "execution_count": null,
   "metadata": {},
   "outputs": [],
   "source": []
  },
  {
   "cell_type": "markdown",
   "metadata": {},
   "source": [
    "# Duplicate Products (#11)"
   ]
  },
  {
   "cell_type": "code",
   "execution_count": 70,
   "metadata": {},
   "outputs": [
    {
     "ename": "SyntaxError",
     "evalue": "invalid syntax (<ipython-input-70-1f3660fa0e6e>, line 1)",
     "output_type": "error",
     "traceback": [
      "\u001b[0;36m  File \u001b[0;32m\"<ipython-input-70-1f3660fa0e6e>\"\u001b[0;36m, line \u001b[0;32m1\u001b[0m\n\u001b[0;31m    In the question, I'm given a product list on multiple lines of Standard Input.\u001b[0m\n\u001b[0m       ^\u001b[0m\n\u001b[0;31mSyntaxError\u001b[0m\u001b[0;31m:\u001b[0m invalid syntax\n"
     ]
    }
   ],
   "source": [
    "In the question, I'm given a product list on multiple lines of Standard Input. \n",
    "\n",
    "Input(stdin)\n",
    "ball 5 2\n",
    "box 10 5\n",
    "ball 10 3.5\n",
    "ball 5 2\n",
    "\n",
    "I've tried\n",
    "x = list(map(str, input().split())) \n",
    "print(x)\n",
    "and it only gave me ['ball', '5', '2].\n",
    "\n",
    "1. Is the following lines of code working the same as the question?\n",
    "2. How would you write it?\n",
    "3. This took me like 5 hours... is it normal?"
   ]
  },
  {
   "cell_type": "code",
   "execution_count": 3,
   "metadata": {
    "scrolled": false
   },
   "outputs": [
    {
     "name": "stdout",
     "output_type": "stream",
     "text": [
      "ball 5 2\n",
      "box 10 5\n",
      "ball 10 3.5\n",
      "ball 5 2\n",
      "ball 5 2\n",
      "box 10 5\n",
      "ball 10 3.5\n",
      "ball 5 2\n",
      "\n"
     ]
    }
   ],
   "source": [
    "no_of_lines = 4\n",
    "line = \"\"\n",
    "\n",
    "for i in range(no_of_lines):\n",
    "    line = line + input() + \"\\n\"\n",
    "    \n",
    "print(line) # this gives us the input?\n",
    "\n",
    "x = line.splitlines()"
   ]
  },
  {
   "cell_type": "code",
   "execution_count": 54,
   "metadata": {
    "scrolled": true
   },
   "outputs": [
    {
     "data": {
      "text/plain": [
       "'ball 5 2'"
      ]
     },
     "execution_count": 54,
     "metadata": {},
     "output_type": "execute_result"
    }
   ],
   "source": [
    "x[0]"
   ]
  },
  {
   "cell_type": "code",
   "execution_count": 57,
   "metadata": {
    "scrolled": false
   },
   "outputs": [
    {
     "data": {
      "text/plain": [
       "[['ball', '5', '2'],\n",
       " ['box', '10', '5'],\n",
       " ['ball', '10', '3.5'],\n",
       " ['ball', '5', '2']]"
      ]
     },
     "execution_count": 57,
     "metadata": {},
     "output_type": "execute_result"
    }
   ],
   "source": [
    "ll = [x[i].split() for i in range(0, len(x))] # x[i] is a string, so we can use .split() function.\n",
    "ll"
   ]
  },
  {
   "cell_type": "code",
   "execution_count": 60,
   "metadata": {
    "scrolled": true
   },
   "outputs": [
    {
     "data": {
      "text/plain": [
       "[('ball', '5', '2'),\n",
       " ('box', '10', '5'),\n",
       " ('ball', '10', '3.5'),\n",
       " ('ball', '5', '2')]"
      ]
     },
     "execution_count": 60,
     "metadata": {},
     "output_type": "execute_result"
    }
   ],
   "source": [
    "# Convert the elements of list into tuples\n",
    "tt = [tuple(ll[i]) for i in range(0, len(ll))]\n",
    "tt"
   ]
  },
  {
   "cell_type": "code",
   "execution_count": 64,
   "metadata": {},
   "outputs": [],
   "source": [
    "# Get a list of distinct tuples\n",
    "distincts = list(set(tt))"
   ]
  },
  {
   "cell_type": "code",
   "execution_count": 65,
   "metadata": {
    "scrolled": true
   },
   "outputs": [
    {
     "data": {
      "text/plain": [
       "[('ball', '5', '2'), ('ball', '10', '3.5'), ('box', '10', '5')]"
      ]
     },
     "execution_count": 65,
     "metadata": {},
     "output_type": "execute_result"
    }
   ],
   "source": [
    "distincts"
   ]
  },
  {
   "cell_type": "code",
   "execution_count": 69,
   "metadata": {
    "scrolled": false
   },
   "outputs": [
    {
     "data": {
      "text/plain": [
       "3"
      ]
     },
     "execution_count": 69,
     "metadata": {},
     "output_type": "execute_result"
    }
   ],
   "source": [
    "# The number of dictinct products\n",
    "len(distincts)"
   ]
  },
  {
   "cell_type": "code",
   "execution_count": 77,
   "metadata": {},
   "outputs": [],
   "source": [
    "# Make it as a function!\n",
    "\n",
    "def dist_products(products):\n",
    "    for i in range(0, len(x)):\n",
    "        l = list(x[i].split())\n",
    "        for j in range(0, len(l)):\n",
    "            t = list(tuple(ll[j]))\n",
    "            n = len(list(set(t)))\n",
    "            return n"
   ]
  },
  {
   "cell_type": "code",
   "execution_count": 78,
   "metadata": {
    "scrolled": true
   },
   "outputs": [
    {
     "data": {
      "text/plain": [
       "3"
      ]
     },
     "execution_count": 78,
     "metadata": {},
     "output_type": "execute_result"
    }
   ],
   "source": [
    "dist_products(x)"
   ]
  },
  {
   "cell_type": "markdown",
   "metadata": {},
   "source": [
    "# Replace Numbers (#12)"
   ]
  },
  {
   "cell_type": "code",
   "execution_count": null,
   "metadata": {},
   "outputs": [],
   "source": [
    "sort -> find top3 --> divide by 2 --> replace them by these divided numbers --> print the new line. "
   ]
  },
  {
   "cell_type": "code",
   "execution_count": 91,
   "metadata": {
    "scrolled": false
   },
   "outputs": [
    {
     "name": "stdout",
     "output_type": "stream",
     "text": [
      "1 7 2 10 20 4\n"
     ]
    }
   ],
   "source": [
    "ns = list(map(int, input().split(\" \")))"
   ]
  },
  {
   "cell_type": "code",
   "execution_count": 92,
   "metadata": {},
   "outputs": [
    {
     "data": {
      "text/plain": [
       "[1, 7, 2, 10, 20, 4]"
      ]
     },
     "execution_count": 92,
     "metadata": {},
     "output_type": "execute_result"
    }
   ],
   "source": [
    "ns"
   ]
  },
  {
   "cell_type": "code",
   "execution_count": 99,
   "metadata": {},
   "outputs": [
    {
     "data": {
      "text/plain": [
       "[20, 10, 7, 4, 2, 1]"
      ]
     },
     "execution_count": 99,
     "metadata": {},
     "output_type": "execute_result"
    }
   ],
   "source": [
    "nss = sorted(ns, reverse=True)\n",
    "nss"
   ]
  },
  {
   "cell_type": "code",
   "execution_count": null,
   "metadata": {},
   "outputs": [],
   "source": [
    "# divide first three elements by 2. "
   ]
  },
  {
   "cell_type": "code",
   "execution_count": 105,
   "metadata": {},
   "outputs": [
    {
     "name": "stdout",
     "output_type": "stream",
     "text": [
      "[10.0, 5.0, 3.5, 4, 2, 1]\n"
     ]
    }
   ],
   "source": [
    "for index, item in enumerate(nss):\n",
    "    if index <= 2:\n",
    "        nss[index] = nss[index]/2\n",
    "print(nss)"
   ]
  },
  {
   "cell_type": "code",
   "execution_count": null,
   "metadata": {},
   "outputs": [],
   "source": []
  },
  {
   "cell_type": "code",
   "execution_count": 111,
   "metadata": {},
   "outputs": [
    {
     "name": "stdout",
     "output_type": "stream",
     "text": [
      "1 7 2 10 20 4\n"
     ]
    },
    {
     "data": {
      "text/plain": [
       "[10.0, 5.0, 3.5, 4, 2, 1]"
      ]
     },
     "execution_count": 111,
     "metadata": {},
     "output_type": "execute_result"
    }
   ],
   "source": [
    "# make it as a function!\n",
    "numbers = list(map(int, input().split(\" \")))\n",
    "\n",
    "def replace_numbers(numbers):\n",
    "    n = sorted(numbers, reverse=True)\n",
    "    for index, item in enumerate(n):\n",
    "        if index <= 2:\n",
    "            n[index] = n[index]/2\n",
    "    return n\n",
    "\n",
    "replace_numbers(numbers)"
   ]
  },
  {
   "cell_type": "code",
   "execution_count": null,
   "metadata": {},
   "outputs": [],
   "source": []
  },
  {
   "cell_type": "code",
   "execution_count": null,
   "metadata": {},
   "outputs": [],
   "source": []
  },
  {
   "cell_type": "code",
   "execution_count": null,
   "metadata": {},
   "outputs": [],
   "source": []
  },
  {
   "cell_type": "code",
   "execution_count": null,
   "metadata": {},
   "outputs": [],
   "source": []
  },
  {
   "cell_type": "code",
   "execution_count": null,
   "metadata": {},
   "outputs": [],
   "source": []
  },
  {
   "cell_type": "code",
   "execution_count": null,
   "metadata": {},
   "outputs": [],
   "source": [
    "#https://careerkarma.com/blog/python-replace-item-in-list/\n",
    "prices = [99.95, 72.50, 30.00, 29.95, 55.00]\n",
    "for index, item in enumerate(prices):\n",
    "\tif item > 50:\n",
    "\t\tprices[index] = round(prices[index] - (prices[index] * 10 / 100), 2)\n",
    "\n",
    "print(prices)"
   ]
  },
  {
   "cell_type": "code",
   "execution_count": 79,
   "metadata": {},
   "outputs": [
    {
     "data": {
      "text/plain": [
       "[(6, 1), (4, 5)]"
      ]
     },
     "execution_count": 79,
     "metadata": {},
     "output_type": "execute_result"
    }
   ],
   "source": [
    "# https://www.geeksforgeeks.org/python-get-unique-tuples-from-list/\n",
    "test_list = [(4, 5), (6, 1), (4, 5), (6, 1)] \n",
    "res = list(set(test_list)) \n",
    "res"
   ]
  },
  {
   "cell_type": "code",
   "execution_count": 43,
   "metadata": {
    "scrolled": true
   },
   "outputs": [
    {
     "name": "stdout",
     "output_type": "stream",
     "text": [
      "ball,5,2\n",
      "box,10,5\n",
      "ball,10,3.5\n",
      "ball,5,2\n"
     ]
    }
   ],
   "source": [
    "for i in x:\n",
    "    ll = (',').join(i.split())\n",
    "    print(ll)\n",
    "    "
   ]
  },
  {
   "cell_type": "code",
   "execution_count": 47,
   "metadata": {
    "scrolled": true
   },
   "outputs": [
    {
     "ename": "ValueError",
     "evalue": "too many values to unpack (expected 3)",
     "output_type": "error",
     "traceback": [
      "\u001b[0;31m---------------------------------------------------------------------------\u001b[0m",
      "\u001b[0;31mValueError\u001b[0m                                Traceback (most recent call last)",
      "\u001b[0;32m<ipython-input-47-32461dd8b4d5>\u001b[0m in \u001b[0;36m<module>\u001b[0;34m\u001b[0m\n\u001b[0;32m----> 1\u001b[0;31m \u001b[0ma\u001b[0m\u001b[0;34m,\u001b[0m\u001b[0mb\u001b[0m\u001b[0;34m,\u001b[0m\u001b[0mc\u001b[0m \u001b[0;34m=\u001b[0m \u001b[0mlist\u001b[0m\u001b[0;34m(\u001b[0m\u001b[0mll\u001b[0m\u001b[0;34m)\u001b[0m\u001b[0;34m\u001b[0m\u001b[0;34m\u001b[0m\u001b[0m\n\u001b[0m",
      "\u001b[0;31mValueError\u001b[0m: too many values to unpack (expected 3)"
     ]
    }
   ],
   "source": [
    "a,b,c = list(ll)"
   ]
  },
  {
   "cell_type": "code",
   "execution_count": 46,
   "metadata": {},
   "outputs": [
    {
     "data": {
      "text/plain": [
       "['b', 'a', 'l', 'l', ',', '5', ',', '2']"
      ]
     },
     "execution_count": 46,
     "metadata": {},
     "output_type": "execute_result"
    }
   ],
   "source": [
    "ll2"
   ]
  },
  {
   "cell_type": "code",
   "execution_count": 24,
   "metadata": {},
   "outputs": [
    {
     "name": "stdout",
     "output_type": "stream",
     "text": [
      "[('b', 'a', 'l', 'l', ' ', '5', ' ', '2'), ('b', 'o', 'x', ' ', '1', '0', ' ', '5'), ('b', 'a', 'l', 'l', ' ', '1', '0', ' ', '3', '.', '5'), ('b', 'a', 'l', 'l', ' ', '5', ' ', '2')]\n"
     ]
    }
   ],
   "source": [
    "#lst = [[50],[\"Python\"],[\"JournalDev\"],[100]]\n",
    "lst_tuple =list(map(tuple, x))\n",
    "print(lst_tuple)"
   ]
  },
  {
   "cell_type": "code",
   "execution_count": null,
   "metadata": {},
   "outputs": [],
   "source": [
    "lst1 = [10,20,30]\n",
    "lst2 = [50,\"Python\",\"JournalDev\"]\n",
    "lst_tuple = list(zip(lst1,lst2))\n",
    "print(lst_tuple)"
   ]
  }
 ],
 "metadata": {
  "kernelspec": {
   "display_name": "Python 3",
   "language": "python",
   "name": "python3"
  },
  "language_info": {
   "codemirror_mode": {
    "name": "ipython",
    "version": 3
   },
   "file_extension": ".py",
   "mimetype": "text/x-python",
   "name": "python",
   "nbconvert_exporter": "python",
   "pygments_lexer": "ipython3",
   "version": "3.8.3"
  }
 },
 "nbformat": 4,
 "nbformat_minor": 4
}
